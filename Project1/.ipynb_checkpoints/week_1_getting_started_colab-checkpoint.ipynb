{
 "cells": [
  {
   "cell_type": "code",
   "execution_count": null,
   "metadata": {
    "id": "I0JntBlEjIBG"
   },
   "outputs": [],
   "source": [
    "# How to load data to colab notebooks\n",
    "# https://towardsdatascience.com/3-ways-to-load-csv-files-into-colab-7c14fcbdcb92"
   ]
  },
  {
   "cell_type": "code",
   "execution_count": 1,
   "metadata": {
    "executionInfo": {
     "elapsed": 751,
     "status": "ok",
     "timestamp": 1610654786096,
     "user": {
      "displayName": "Christian Medina Armas",
      "photoUrl": "",
      "userId": "13236843762962760151"
     },
     "user_tz": 360
    },
    "id": "4uK0bxEhNSQ5"
   },
   "outputs": [],
   "source": [
    "from google.colab import files\n",
    "import io\n",
    "import pandas as pd\n",
    "import matplotlib.pyplot as plt"
   ]
  },
  {
   "cell_type": "markdown",
   "metadata": {
    "id": "e1WYiRkKZLU1"
   },
   "source": [
    "### Upload files from local file system"
   ]
  },
  {
   "cell_type": "code",
   "execution_count": 2,
   "metadata": {
    "colab": {
     "base_uri": "https://localhost:8080/",
     "height": 72,
     "resources": {
      "http://localhost:8080/nbextensions/google.colab/files.js": {
       "data": "Ly8gQ29weXJpZ2h0IDIwMTcgR29vZ2xlIExMQwovLwovLyBMaWNlbnNlZCB1bmRlciB0aGUgQXBhY2hlIExpY2Vuc2UsIFZlcnNpb24gMi4wICh0aGUgIkxpY2Vuc2UiKTsKLy8geW91IG1heSBub3QgdXNlIHRoaXMgZmlsZSBleGNlcHQgaW4gY29tcGxpYW5jZSB3aXRoIHRoZSBMaWNlbnNlLgovLyBZb3UgbWF5IG9idGFpbiBhIGNvcHkgb2YgdGhlIExpY2Vuc2UgYXQKLy8KLy8gICAgICBodHRwOi8vd3d3LmFwYWNoZS5vcmcvbGljZW5zZXMvTElDRU5TRS0yLjAKLy8KLy8gVW5sZXNzIHJlcXVpcmVkIGJ5IGFwcGxpY2FibGUgbGF3IG9yIGFncmVlZCB0byBpbiB3cml0aW5nLCBzb2Z0d2FyZQovLyBkaXN0cmlidXRlZCB1bmRlciB0aGUgTGljZW5zZSBpcyBkaXN0cmlidXRlZCBvbiBhbiAiQVMgSVMiIEJBU0lTLAovLyBXSVRIT1VUIFdBUlJBTlRJRVMgT1IgQ09ORElUSU9OUyBPRiBBTlkgS0lORCwgZWl0aGVyIGV4cHJlc3Mgb3IgaW1wbGllZC4KLy8gU2VlIHRoZSBMaWNlbnNlIGZvciB0aGUgc3BlY2lmaWMgbGFuZ3VhZ2UgZ292ZXJuaW5nIHBlcm1pc3Npb25zIGFuZAovLyBsaW1pdGF0aW9ucyB1bmRlciB0aGUgTGljZW5zZS4KCi8qKgogKiBAZmlsZW92ZXJ2aWV3IEhlbHBlcnMgZm9yIGdvb2dsZS5jb2xhYiBQeXRob24gbW9kdWxlLgogKi8KKGZ1bmN0aW9uKHNjb3BlKSB7CmZ1bmN0aW9uIHNwYW4odGV4dCwgc3R5bGVBdHRyaWJ1dGVzID0ge30pIHsKICBjb25zdCBlbGVtZW50ID0gZG9jdW1lbnQuY3JlYXRlRWxlbWVudCgnc3BhbicpOwogIGVsZW1lbnQudGV4dENvbnRlbnQgPSB0ZXh0OwogIGZvciAoY29uc3Qga2V5IG9mIE9iamVjdC5rZXlzKHN0eWxlQXR0cmlidXRlcykpIHsKICAgIGVsZW1lbnQuc3R5bGVba2V5XSA9IHN0eWxlQXR0cmlidXRlc1trZXldOwogIH0KICByZXR1cm4gZWxlbWVudDsKfQoKLy8gTWF4IG51bWJlciBvZiBieXRlcyB3aGljaCB3aWxsIGJlIHVwbG9hZGVkIGF0IGEgdGltZS4KY29uc3QgTUFYX1BBWUxPQURfU0laRSA9IDEwMCAqIDEwMjQ7CgpmdW5jdGlvbiBfdXBsb2FkRmlsZXMoaW5wdXRJZCwgb3V0cHV0SWQpIHsKICBjb25zdCBzdGVwcyA9IHVwbG9hZEZpbGVzU3RlcChpbnB1dElkLCBvdXRwdXRJZCk7CiAgY29uc3Qgb3V0cHV0RWxlbWVudCA9IGRvY3VtZW50LmdldEVsZW1lbnRCeUlkKG91dHB1dElkKTsKICAvLyBDYWNoZSBzdGVwcyBvbiB0aGUgb3V0cHV0RWxlbWVudCB0byBtYWtlIGl0IGF2YWlsYWJsZSBmb3IgdGhlIG5leHQgY2FsbAogIC8vIHRvIHVwbG9hZEZpbGVzQ29udGludWUgZnJvbSBQeXRob24uCiAgb3V0cHV0RWxlbWVudC5zdGVwcyA9IHN0ZXBzOwoKICByZXR1cm4gX3VwbG9hZEZpbGVzQ29udGludWUob3V0cHV0SWQpOwp9CgovLyBUaGlzIGlzIHJvdWdobHkgYW4gYXN5bmMgZ2VuZXJhdG9yIChub3Qgc3VwcG9ydGVkIGluIHRoZSBicm93c2VyIHlldCksCi8vIHdoZXJlIHRoZXJlIGFyZSBtdWx0aXBsZSBhc3luY2hyb25vdXMgc3RlcHMgYW5kIHRoZSBQeXRob24gc2lkZSBpcyBnb2luZwovLyB0byBwb2xsIGZvciBjb21wbGV0aW9uIG9mIGVhY2ggc3RlcC4KLy8gVGhpcyB1c2VzIGEgUHJvbWlzZSB0byBibG9jayB0aGUgcHl0aG9uIHNpZGUgb24gY29tcGxldGlvbiBvZiBlYWNoIHN0ZXAsCi8vIHRoZW4gcGFzc2VzIHRoZSByZXN1bHQgb2YgdGhlIHByZXZpb3VzIHN0ZXAgYXMgdGhlIGlucHV0IHRvIHRoZSBuZXh0IHN0ZXAuCmZ1bmN0aW9uIF91cGxvYWRGaWxlc0NvbnRpbnVlKG91dHB1dElkKSB7CiAgY29uc3Qgb3V0cHV0RWxlbWVudCA9IGRvY3VtZW50LmdldEVsZW1lbnRCeUlkKG91dHB1dElkKTsKICBjb25zdCBzdGVwcyA9IG91dHB1dEVsZW1lbnQuc3RlcHM7CgogIGNvbnN0IG5leHQgPSBzdGVwcy5uZXh0KG91dHB1dEVsZW1lbnQubGFzdFByb21pc2VWYWx1ZSk7CiAgcmV0dXJuIFByb21pc2UucmVzb2x2ZShuZXh0LnZhbHVlLnByb21pc2UpLnRoZW4oKHZhbHVlKSA9PiB7CiAgICAvLyBDYWNoZSB0aGUgbGFzdCBwcm9taXNlIHZhbHVlIHRvIG1ha2UgaXQgYXZhaWxhYmxlIHRvIHRoZSBuZXh0CiAgICAvLyBzdGVwIG9mIHRoZSBnZW5lcmF0b3IuCiAgICBvdXRwdXRFbGVtZW50Lmxhc3RQcm9taXNlVmFsdWUgPSB2YWx1ZTsKICAgIHJldHVybiBuZXh0LnZhbHVlLnJlc3BvbnNlOwogIH0pOwp9CgovKioKICogR2VuZXJhdG9yIGZ1bmN0aW9uIHdoaWNoIGlzIGNhbGxlZCBiZXR3ZWVuIGVhY2ggYXN5bmMgc3RlcCBvZiB0aGUgdXBsb2FkCiAqIHByb2Nlc3MuCiAqIEBwYXJhbSB7c3RyaW5nfSBpbnB1dElkIEVsZW1lbnQgSUQgb2YgdGhlIGlucHV0IGZpbGUgcGlja2VyIGVsZW1lbnQuCiAqIEBwYXJhbSB7c3RyaW5nfSBvdXRwdXRJZCBFbGVtZW50IElEIG9mIHRoZSBvdXRwdXQgZGlzcGxheS4KICogQHJldHVybiB7IUl0ZXJhYmxlPCFPYmplY3Q+fSBJdGVyYWJsZSBvZiBuZXh0IHN0ZXBzLgogKi8KZnVuY3Rpb24qIHVwbG9hZEZpbGVzU3RlcChpbnB1dElkLCBvdXRwdXRJZCkgewogIGNvbnN0IGlucHV0RWxlbWVudCA9IGRvY3VtZW50LmdldEVsZW1lbnRCeUlkKGlucHV0SWQpOwogIGlucHV0RWxlbWVudC5kaXNhYmxlZCA9IGZhbHNlOwoKICBjb25zdCBvdXRwdXRFbGVtZW50ID0gZG9jdW1lbnQuZ2V0RWxlbWVudEJ5SWQob3V0cHV0SWQpOwogIG91dHB1dEVsZW1lbnQuaW5uZXJIVE1MID0gJyc7CgogIGNvbnN0IHBpY2tlZFByb21pc2UgPSBuZXcgUHJvbWlzZSgocmVzb2x2ZSkgPT4gewogICAgaW5wdXRFbGVtZW50LmFkZEV2ZW50TGlzdGVuZXIoJ2NoYW5nZScsIChlKSA9PiB7CiAgICAgIHJlc29sdmUoZS50YXJnZXQuZmlsZXMpOwogICAgfSk7CiAgfSk7CgogIGNvbnN0IGNhbmNlbCA9IGRvY3VtZW50LmNyZWF0ZUVsZW1lbnQoJ2J1dHRvbicpOwogIGlucHV0RWxlbWVudC5wYXJlbnRFbGVtZW50LmFwcGVuZENoaWxkKGNhbmNlbCk7CiAgY2FuY2VsLnRleHRDb250ZW50ID0gJ0NhbmNlbCB1cGxvYWQnOwogIGNvbnN0IGNhbmNlbFByb21pc2UgPSBuZXcgUHJvbWlzZSgocmVzb2x2ZSkgPT4gewogICAgY2FuY2VsLm9uY2xpY2sgPSAoKSA9PiB7CiAgICAgIHJlc29sdmUobnVsbCk7CiAgICB9OwogIH0pOwoKICAvLyBXYWl0IGZvciB0aGUgdXNlciB0byBwaWNrIHRoZSBmaWxlcy4KICBjb25zdCBmaWxlcyA9IHlpZWxkIHsKICAgIHByb21pc2U6IFByb21pc2UucmFjZShbcGlja2VkUHJvbWlzZSwgY2FuY2VsUHJvbWlzZV0pLAogICAgcmVzcG9uc2U6IHsKICAgICAgYWN0aW9uOiAnc3RhcnRpbmcnLAogICAgfQogIH07CgogIGNhbmNlbC5yZW1vdmUoKTsKCiAgLy8gRGlzYWJsZSB0aGUgaW5wdXQgZWxlbWVudCBzaW5jZSBmdXJ0aGVyIHBpY2tzIGFyZSBub3QgYWxsb3dlZC4KICBpbnB1dEVsZW1lbnQuZGlzYWJsZWQgPSB0cnVlOwoKICBpZiAoIWZpbGVzKSB7CiAgICByZXR1cm4gewogICAgICByZXNwb25zZTogewogICAgICAgIGFjdGlvbjogJ2NvbXBsZXRlJywKICAgICAgfQogICAgfTsKICB9CgogIGZvciAoY29uc3QgZmlsZSBvZiBmaWxlcykgewogICAgY29uc3QgbGkgPSBkb2N1bWVudC5jcmVhdGVFbGVtZW50KCdsaScpOwogICAgbGkuYXBwZW5kKHNwYW4oZmlsZS5uYW1lLCB7Zm9udFdlaWdodDogJ2JvbGQnfSkpOwogICAgbGkuYXBwZW5kKHNwYW4oCiAgICAgICAgYCgke2ZpbGUudHlwZSB8fCAnbi9hJ30pIC0gJHtmaWxlLnNpemV9IGJ5dGVzLCBgICsKICAgICAgICBgbGFzdCBtb2RpZmllZDogJHsKICAgICAgICAgICAgZmlsZS5sYXN0TW9kaWZpZWREYXRlID8gZmlsZS5sYXN0TW9kaWZpZWREYXRlLnRvTG9jYWxlRGF0ZVN0cmluZygpIDoKICAgICAgICAgICAgICAgICAgICAgICAgICAgICAgICAgICAgJ24vYSd9IC0gYCkpOwogICAgY29uc3QgcGVyY2VudCA9IHNwYW4oJzAlIGRvbmUnKTsKICAgIGxpLmFwcGVuZENoaWxkKHBlcmNlbnQpOwoKICAgIG91dHB1dEVsZW1lbnQuYXBwZW5kQ2hpbGQobGkpOwoKICAgIGNvbnN0IGZpbGVEYXRhUHJvbWlzZSA9IG5ldyBQcm9taXNlKChyZXNvbHZlKSA9PiB7CiAgICAgIGNvbnN0IHJlYWRlciA9IG5ldyBGaWxlUmVhZGVyKCk7CiAgICAgIHJlYWRlci5vbmxvYWQgPSAoZSkgPT4gewogICAgICAgIHJlc29sdmUoZS50YXJnZXQucmVzdWx0KTsKICAgICAgfTsKICAgICAgcmVhZGVyLnJlYWRBc0FycmF5QnVmZmVyKGZpbGUpOwogICAgfSk7CiAgICAvLyBXYWl0IGZvciB0aGUgZGF0YSB0byBiZSByZWFkeS4KICAgIGxldCBmaWxlRGF0YSA9IHlpZWxkIHsKICAgICAgcHJvbWlzZTogZmlsZURhdGFQcm9taXNlLAogICAgICByZXNwb25zZTogewogICAgICAgIGFjdGlvbjogJ2NvbnRpbnVlJywKICAgICAgfQogICAgfTsKCiAgICAvLyBVc2UgYSBjaHVua2VkIHNlbmRpbmcgdG8gYXZvaWQgbWVzc2FnZSBzaXplIGxpbWl0cy4gU2VlIGIvNjIxMTU2NjAuCiAgICBsZXQgcG9zaXRpb24gPSAwOwogICAgd2hpbGUgKHBvc2l0aW9uIDwgZmlsZURhdGEuYnl0ZUxlbmd0aCkgewogICAgICBjb25zdCBsZW5ndGggPSBNYXRoLm1pbihmaWxlRGF0YS5ieXRlTGVuZ3RoIC0gcG9zaXRpb24sIE1BWF9QQVlMT0FEX1NJWkUpOwogICAgICBjb25zdCBjaHVuayA9IG5ldyBVaW50OEFycmF5KGZpbGVEYXRhLCBwb3NpdGlvbiwgbGVuZ3RoKTsKICAgICAgcG9zaXRpb24gKz0gbGVuZ3RoOwoKICAgICAgY29uc3QgYmFzZTY0ID0gYnRvYShTdHJpbmcuZnJvbUNoYXJDb2RlLmFwcGx5KG51bGwsIGNodW5rKSk7CiAgICAgIHlpZWxkIHsKICAgICAgICByZXNwb25zZTogewogICAgICAgICAgYWN0aW9uOiAnYXBwZW5kJywKICAgICAgICAgIGZpbGU6IGZpbGUubmFtZSwKICAgICAgICAgIGRhdGE6IGJhc2U2NCwKICAgICAgICB9LAogICAgICB9OwogICAgICBwZXJjZW50LnRleHRDb250ZW50ID0KICAgICAgICAgIGAke01hdGgucm91bmQoKHBvc2l0aW9uIC8gZmlsZURhdGEuYnl0ZUxlbmd0aCkgKiAxMDApfSUgZG9uZWA7CiAgICB9CiAgfQoKICAvLyBBbGwgZG9uZS4KICB5aWVsZCB7CiAgICByZXNwb25zZTogewogICAgICBhY3Rpb246ICdjb21wbGV0ZScsCiAgICB9CiAgfTsKfQoKc2NvcGUuZ29vZ2xlID0gc2NvcGUuZ29vZ2xlIHx8IHt9OwpzY29wZS5nb29nbGUuY29sYWIgPSBzY29wZS5nb29nbGUuY29sYWIgfHwge307CnNjb3BlLmdvb2dsZS5jb2xhYi5fZmlsZXMgPSB7CiAgX3VwbG9hZEZpbGVzLAogIF91cGxvYWRGaWxlc0NvbnRpbnVlLAp9Owp9KShzZWxmKTsK",
       "headers": [
        [
         "content-type",
         "application/javascript"
        ]
       ],
       "ok": true,
       "status": 200,
       "status_text": ""
      }
     }
    },
    "executionInfo": {
     "elapsed": 53247,
     "status": "ok",
     "timestamp": 1610654842329,
     "user": {
      "displayName": "Christian Medina Armas",
      "photoUrl": "",
      "userId": "13236843762962760151"
     },
     "user_tz": 360
    },
    "id": "utzppNs6NayT",
    "outputId": "be15bfcd-aa56-4f0a-c28f-226425119890"
   },
   "outputs": [
    {
     "data": {
      "text/html": [
       "\n",
       "     <input type=\"file\" id=\"files-813abb37-21a0-4bc8-8fb6-2f3ebf5b67cf\" name=\"files[]\" multiple disabled\n",
       "        style=\"border:none\" />\n",
       "     <output id=\"result-813abb37-21a0-4bc8-8fb6-2f3ebf5b67cf\">\n",
       "      Upload widget is only available when the cell has been executed in the\n",
       "      current browser session. Please rerun this cell to enable.\n",
       "      </output>\n",
       "      <script src=\"/nbextensions/google.colab/files.js\"></script> "
      ],
      "text/plain": [
       "<IPython.core.display.HTML object>"
      ]
     },
     "metadata": {
      "tags": []
     },
     "output_type": "display_data"
    },
    {
     "name": "stdout",
     "output_type": "stream",
     "text": [
      "Saving census.csv to census.csv\n"
     ]
    }
   ],
   "source": [
    "# run to upload file\n",
    "uploaded = files.upload()"
   ]
  },
  {
   "cell_type": "code",
   "execution_count": 3,
   "metadata": {
    "colab": {
     "base_uri": "https://localhost:8080/"
    },
    "executionInfo": {
     "elapsed": 541,
     "status": "ok",
     "timestamp": 1610654849575,
     "user": {
      "displayName": "Christian Medina Armas",
      "photoUrl": "",
      "userId": "13236843762962760151"
     },
     "user_tz": 360
    },
    "id": "N351cUobPKnf",
    "outputId": "3236800d-b8dd-4a5b-9d74-e2c25eda24b0"
   },
   "outputs": [
    {
     "name": "stdout",
     "output_type": "stream",
     "text": [
      "User uploaded file \"census.csv\" with length 2155859 bytes\n"
     ]
    }
   ],
   "source": [
    "for fn in uploaded.keys():\n",
    "  print('User uploaded file \"{name}\" with length {length} bytes'.format(\n",
    "      name=fn, length=len(uploaded[fn])))"
   ]
  },
  {
   "cell_type": "code",
   "execution_count": 5,
   "metadata": {
    "colab": {
     "base_uri": "https://localhost:8080/",
     "height": 321
    },
    "executionInfo": {
     "elapsed": 799,
     "status": "ok",
     "timestamp": 1610654887703,
     "user": {
      "displayName": "Christian Medina Armas",
      "photoUrl": "",
      "userId": "13236843762962760151"
     },
     "user_tz": 360
    },
    "id": "lyLnGNKhPNZp",
    "outputId": "20c6c7b9-fa11-4c9f-f383-bf906518db9d"
   },
   "outputs": [
    {
     "data": {
      "text/html": [
       "<div>\n",
       "<style scoped>\n",
       "    .dataframe tbody tr th:only-of-type {\n",
       "        vertical-align: middle;\n",
       "    }\n",
       "\n",
       "    .dataframe tbody tr th {\n",
       "        vertical-align: top;\n",
       "    }\n",
       "\n",
       "    .dataframe thead th {\n",
       "        text-align: right;\n",
       "    }\n",
       "</style>\n",
       "<table border=\"1\" class=\"dataframe\">\n",
       "  <thead>\n",
       "    <tr style=\"text-align: right;\">\n",
       "      <th></th>\n",
       "      <th>SUMLEV</th>\n",
       "      <th>REGION</th>\n",
       "      <th>DIVISION</th>\n",
       "      <th>STATE</th>\n",
       "      <th>COUNTY</th>\n",
       "      <th>STNAME</th>\n",
       "      <th>CTYNAME</th>\n",
       "      <th>CENSUS2010POP</th>\n",
       "      <th>ESTIMATESBASE2010</th>\n",
       "      <th>POPESTIMATE2010</th>\n",
       "      <th>POPESTIMATE2011</th>\n",
       "      <th>POPESTIMATE2012</th>\n",
       "      <th>POPESTIMATE2013</th>\n",
       "      <th>POPESTIMATE2014</th>\n",
       "      <th>POPESTIMATE2015</th>\n",
       "      <th>NPOPCHG_2010</th>\n",
       "      <th>NPOPCHG_2011</th>\n",
       "      <th>NPOPCHG_2012</th>\n",
       "      <th>NPOPCHG_2013</th>\n",
       "      <th>NPOPCHG_2014</th>\n",
       "      <th>NPOPCHG_2015</th>\n",
       "      <th>BIRTHS2010</th>\n",
       "      <th>BIRTHS2011</th>\n",
       "      <th>BIRTHS2012</th>\n",
       "      <th>BIRTHS2013</th>\n",
       "      <th>BIRTHS2014</th>\n",
       "      <th>BIRTHS2015</th>\n",
       "      <th>DEATHS2010</th>\n",
       "      <th>DEATHS2011</th>\n",
       "      <th>DEATHS2012</th>\n",
       "      <th>DEATHS2013</th>\n",
       "      <th>DEATHS2014</th>\n",
       "      <th>DEATHS2015</th>\n",
       "      <th>NATURALINC2010</th>\n",
       "      <th>NATURALINC2011</th>\n",
       "      <th>NATURALINC2012</th>\n",
       "      <th>NATURALINC2013</th>\n",
       "      <th>NATURALINC2014</th>\n",
       "      <th>NATURALINC2015</th>\n",
       "      <th>INTERNATIONALMIG2010</th>\n",
       "      <th>...</th>\n",
       "      <th>RESIDUAL2013</th>\n",
       "      <th>RESIDUAL2014</th>\n",
       "      <th>RESIDUAL2015</th>\n",
       "      <th>GQESTIMATESBASE2010</th>\n",
       "      <th>GQESTIMATES2010</th>\n",
       "      <th>GQESTIMATES2011</th>\n",
       "      <th>GQESTIMATES2012</th>\n",
       "      <th>GQESTIMATES2013</th>\n",
       "      <th>GQESTIMATES2014</th>\n",
       "      <th>GQESTIMATES2015</th>\n",
       "      <th>RBIRTH2011</th>\n",
       "      <th>RBIRTH2012</th>\n",
       "      <th>RBIRTH2013</th>\n",
       "      <th>RBIRTH2014</th>\n",
       "      <th>RBIRTH2015</th>\n",
       "      <th>RDEATH2011</th>\n",
       "      <th>RDEATH2012</th>\n",
       "      <th>RDEATH2013</th>\n",
       "      <th>RDEATH2014</th>\n",
       "      <th>RDEATH2015</th>\n",
       "      <th>RNATURALINC2011</th>\n",
       "      <th>RNATURALINC2012</th>\n",
       "      <th>RNATURALINC2013</th>\n",
       "      <th>RNATURALINC2014</th>\n",
       "      <th>RNATURALINC2015</th>\n",
       "      <th>RINTERNATIONALMIG2011</th>\n",
       "      <th>RINTERNATIONALMIG2012</th>\n",
       "      <th>RINTERNATIONALMIG2013</th>\n",
       "      <th>RINTERNATIONALMIG2014</th>\n",
       "      <th>RINTERNATIONALMIG2015</th>\n",
       "      <th>RDOMESTICMIG2011</th>\n",
       "      <th>RDOMESTICMIG2012</th>\n",
       "      <th>RDOMESTICMIG2013</th>\n",
       "      <th>RDOMESTICMIG2014</th>\n",
       "      <th>RDOMESTICMIG2015</th>\n",
       "      <th>RNETMIG2011</th>\n",
       "      <th>RNETMIG2012</th>\n",
       "      <th>RNETMIG2013</th>\n",
       "      <th>RNETMIG2014</th>\n",
       "      <th>RNETMIG2015</th>\n",
       "    </tr>\n",
       "  </thead>\n",
       "  <tbody>\n",
       "    <tr>\n",
       "      <th>0</th>\n",
       "      <td>40</td>\n",
       "      <td>3</td>\n",
       "      <td>6</td>\n",
       "      <td>1</td>\n",
       "      <td>0</td>\n",
       "      <td>Alabama</td>\n",
       "      <td>Alabama</td>\n",
       "      <td>4779736</td>\n",
       "      <td>4780127</td>\n",
       "      <td>4785161</td>\n",
       "      <td>4801108</td>\n",
       "      <td>4816089</td>\n",
       "      <td>4830533</td>\n",
       "      <td>4846411</td>\n",
       "      <td>4858979</td>\n",
       "      <td>5034</td>\n",
       "      <td>15947</td>\n",
       "      <td>14981</td>\n",
       "      <td>14444</td>\n",
       "      <td>15878</td>\n",
       "      <td>12568</td>\n",
       "      <td>14226</td>\n",
       "      <td>59689</td>\n",
       "      <td>59062</td>\n",
       "      <td>57938</td>\n",
       "      <td>58334</td>\n",
       "      <td>58305</td>\n",
       "      <td>11089</td>\n",
       "      <td>48811</td>\n",
       "      <td>48357</td>\n",
       "      <td>50843</td>\n",
       "      <td>50228</td>\n",
       "      <td>50330</td>\n",
       "      <td>3137</td>\n",
       "      <td>10878</td>\n",
       "      <td>10705</td>\n",
       "      <td>7095</td>\n",
       "      <td>8106</td>\n",
       "      <td>7975</td>\n",
       "      <td>1357</td>\n",
       "      <td>...</td>\n",
       "      <td>677</td>\n",
       "      <td>-573</td>\n",
       "      <td>1135</td>\n",
       "      <td>116185</td>\n",
       "      <td>116212</td>\n",
       "      <td>115560</td>\n",
       "      <td>115666</td>\n",
       "      <td>116963</td>\n",
       "      <td>119088</td>\n",
       "      <td>119599</td>\n",
       "      <td>12.453020</td>\n",
       "      <td>12.282581</td>\n",
       "      <td>12.012080</td>\n",
       "      <td>12.056286</td>\n",
       "      <td>12.014973</td>\n",
       "      <td>10.183524</td>\n",
       "      <td>10.056360</td>\n",
       "      <td>10.541099</td>\n",
       "      <td>10.380963</td>\n",
       "      <td>10.371556</td>\n",
       "      <td>2.269496</td>\n",
       "      <td>2.226220</td>\n",
       "      <td>1.470981</td>\n",
       "      <td>1.675322</td>\n",
       "      <td>1.643417</td>\n",
       "      <td>1.027720</td>\n",
       "      <td>1.019840</td>\n",
       "      <td>1.002216</td>\n",
       "      <td>1.142716</td>\n",
       "      <td>1.179963</td>\n",
       "      <td>0.002295</td>\n",
       "      <td>-0.193196</td>\n",
       "      <td>0.381066</td>\n",
       "      <td>0.582002</td>\n",
       "      <td>-0.467369</td>\n",
       "      <td>1.030015</td>\n",
       "      <td>0.826644</td>\n",
       "      <td>1.383282</td>\n",
       "      <td>1.724718</td>\n",
       "      <td>0.712594</td>\n",
       "    </tr>\n",
       "    <tr>\n",
       "      <th>1</th>\n",
       "      <td>50</td>\n",
       "      <td>3</td>\n",
       "      <td>6</td>\n",
       "      <td>1</td>\n",
       "      <td>1</td>\n",
       "      <td>Alabama</td>\n",
       "      <td>Autauga County</td>\n",
       "      <td>54571</td>\n",
       "      <td>54571</td>\n",
       "      <td>54660</td>\n",
       "      <td>55253</td>\n",
       "      <td>55175</td>\n",
       "      <td>55038</td>\n",
       "      <td>55290</td>\n",
       "      <td>55347</td>\n",
       "      <td>89</td>\n",
       "      <td>593</td>\n",
       "      <td>-78</td>\n",
       "      <td>-137</td>\n",
       "      <td>252</td>\n",
       "      <td>57</td>\n",
       "      <td>151</td>\n",
       "      <td>636</td>\n",
       "      <td>615</td>\n",
       "      <td>574</td>\n",
       "      <td>623</td>\n",
       "      <td>600</td>\n",
       "      <td>152</td>\n",
       "      <td>507</td>\n",
       "      <td>558</td>\n",
       "      <td>583</td>\n",
       "      <td>504</td>\n",
       "      <td>467</td>\n",
       "      <td>-1</td>\n",
       "      <td>129</td>\n",
       "      <td>57</td>\n",
       "      <td>-9</td>\n",
       "      <td>119</td>\n",
       "      <td>133</td>\n",
       "      <td>33</td>\n",
       "      <td>...</td>\n",
       "      <td>22</td>\n",
       "      <td>-10</td>\n",
       "      <td>45</td>\n",
       "      <td>455</td>\n",
       "      <td>455</td>\n",
       "      <td>455</td>\n",
       "      <td>455</td>\n",
       "      <td>455</td>\n",
       "      <td>455</td>\n",
       "      <td>455</td>\n",
       "      <td>11.572789</td>\n",
       "      <td>11.138479</td>\n",
       "      <td>10.416194</td>\n",
       "      <td>11.293597</td>\n",
       "      <td>10.846281</td>\n",
       "      <td>9.225478</td>\n",
       "      <td>10.106133</td>\n",
       "      <td>10.579514</td>\n",
       "      <td>9.136393</td>\n",
       "      <td>8.442022</td>\n",
       "      <td>2.347311</td>\n",
       "      <td>1.032347</td>\n",
       "      <td>-0.163320</td>\n",
       "      <td>2.157204</td>\n",
       "      <td>2.404259</td>\n",
       "      <td>0.363924</td>\n",
       "      <td>0.289782</td>\n",
       "      <td>0.290347</td>\n",
       "      <td>0.326300</td>\n",
       "      <td>0.343466</td>\n",
       "      <td>7.242091</td>\n",
       "      <td>-2.915927</td>\n",
       "      <td>-3.012349</td>\n",
       "      <td>2.265971</td>\n",
       "      <td>-2.530799</td>\n",
       "      <td>7.606016</td>\n",
       "      <td>-2.626146</td>\n",
       "      <td>-2.722002</td>\n",
       "      <td>2.592270</td>\n",
       "      <td>-2.187333</td>\n",
       "    </tr>\n",
       "    <tr>\n",
       "      <th>2</th>\n",
       "      <td>50</td>\n",
       "      <td>3</td>\n",
       "      <td>6</td>\n",
       "      <td>1</td>\n",
       "      <td>3</td>\n",
       "      <td>Alabama</td>\n",
       "      <td>Baldwin County</td>\n",
       "      <td>182265</td>\n",
       "      <td>182265</td>\n",
       "      <td>183193</td>\n",
       "      <td>186659</td>\n",
       "      <td>190396</td>\n",
       "      <td>195126</td>\n",
       "      <td>199713</td>\n",
       "      <td>203709</td>\n",
       "      <td>928</td>\n",
       "      <td>3466</td>\n",
       "      <td>3737</td>\n",
       "      <td>4730</td>\n",
       "      <td>4587</td>\n",
       "      <td>3996</td>\n",
       "      <td>517</td>\n",
       "      <td>2187</td>\n",
       "      <td>2092</td>\n",
       "      <td>2160</td>\n",
       "      <td>2186</td>\n",
       "      <td>2240</td>\n",
       "      <td>532</td>\n",
       "      <td>1825</td>\n",
       "      <td>1879</td>\n",
       "      <td>1902</td>\n",
       "      <td>2044</td>\n",
       "      <td>1992</td>\n",
       "      <td>-15</td>\n",
       "      <td>362</td>\n",
       "      <td>213</td>\n",
       "      <td>258</td>\n",
       "      <td>142</td>\n",
       "      <td>248</td>\n",
       "      <td>69</td>\n",
       "      <td>...</td>\n",
       "      <td>91</td>\n",
       "      <td>434</td>\n",
       "      <td>58</td>\n",
       "      <td>2307</td>\n",
       "      <td>2307</td>\n",
       "      <td>2307</td>\n",
       "      <td>2249</td>\n",
       "      <td>2304</td>\n",
       "      <td>2308</td>\n",
       "      <td>2309</td>\n",
       "      <td>11.826352</td>\n",
       "      <td>11.096524</td>\n",
       "      <td>11.205586</td>\n",
       "      <td>11.072868</td>\n",
       "      <td>11.104997</td>\n",
       "      <td>9.868812</td>\n",
       "      <td>9.966716</td>\n",
       "      <td>9.867141</td>\n",
       "      <td>10.353587</td>\n",
       "      <td>9.875515</td>\n",
       "      <td>1.957540</td>\n",
       "      <td>1.129809</td>\n",
       "      <td>1.338445</td>\n",
       "      <td>0.719281</td>\n",
       "      <td>1.229482</td>\n",
       "      <td>1.011215</td>\n",
       "      <td>0.912334</td>\n",
       "      <td>0.881921</td>\n",
       "      <td>1.073855</td>\n",
       "      <td>1.095627</td>\n",
       "      <td>14.832960</td>\n",
       "      <td>17.647293</td>\n",
       "      <td>21.845705</td>\n",
       "      <td>19.243287</td>\n",
       "      <td>17.197872</td>\n",
       "      <td>15.844176</td>\n",
       "      <td>18.559627</td>\n",
       "      <td>22.727626</td>\n",
       "      <td>20.317142</td>\n",
       "      <td>18.293499</td>\n",
       "    </tr>\n",
       "    <tr>\n",
       "      <th>3</th>\n",
       "      <td>50</td>\n",
       "      <td>3</td>\n",
       "      <td>6</td>\n",
       "      <td>1</td>\n",
       "      <td>5</td>\n",
       "      <td>Alabama</td>\n",
       "      <td>Barbour County</td>\n",
       "      <td>27457</td>\n",
       "      <td>27457</td>\n",
       "      <td>27341</td>\n",
       "      <td>27226</td>\n",
       "      <td>27159</td>\n",
       "      <td>26973</td>\n",
       "      <td>26815</td>\n",
       "      <td>26489</td>\n",
       "      <td>-116</td>\n",
       "      <td>-115</td>\n",
       "      <td>-67</td>\n",
       "      <td>-186</td>\n",
       "      <td>-158</td>\n",
       "      <td>-326</td>\n",
       "      <td>70</td>\n",
       "      <td>335</td>\n",
       "      <td>300</td>\n",
       "      <td>283</td>\n",
       "      <td>260</td>\n",
       "      <td>269</td>\n",
       "      <td>128</td>\n",
       "      <td>319</td>\n",
       "      <td>291</td>\n",
       "      <td>294</td>\n",
       "      <td>310</td>\n",
       "      <td>309</td>\n",
       "      <td>-58</td>\n",
       "      <td>16</td>\n",
       "      <td>9</td>\n",
       "      <td>-11</td>\n",
       "      <td>-50</td>\n",
       "      <td>-40</td>\n",
       "      <td>2</td>\n",
       "      <td>...</td>\n",
       "      <td>19</td>\n",
       "      <td>-1</td>\n",
       "      <td>-5</td>\n",
       "      <td>3193</td>\n",
       "      <td>3193</td>\n",
       "      <td>3382</td>\n",
       "      <td>3388</td>\n",
       "      <td>3389</td>\n",
       "      <td>3353</td>\n",
       "      <td>3352</td>\n",
       "      <td>12.278483</td>\n",
       "      <td>11.032454</td>\n",
       "      <td>10.455923</td>\n",
       "      <td>9.667584</td>\n",
       "      <td>10.093051</td>\n",
       "      <td>11.692048</td>\n",
       "      <td>10.701480</td>\n",
       "      <td>10.862337</td>\n",
       "      <td>11.526735</td>\n",
       "      <td>11.593877</td>\n",
       "      <td>0.586435</td>\n",
       "      <td>0.330974</td>\n",
       "      <td>-0.406414</td>\n",
       "      <td>-1.859151</td>\n",
       "      <td>-1.500825</td>\n",
       "      <td>-0.146609</td>\n",
       "      <td>-0.257424</td>\n",
       "      <td>-0.110840</td>\n",
       "      <td>-0.074366</td>\n",
       "      <td>0.000000</td>\n",
       "      <td>-4.728132</td>\n",
       "      <td>-2.500690</td>\n",
       "      <td>-7.056824</td>\n",
       "      <td>-3.904217</td>\n",
       "      <td>-10.543299</td>\n",
       "      <td>-4.874741</td>\n",
       "      <td>-2.758113</td>\n",
       "      <td>-7.167664</td>\n",
       "      <td>-3.978583</td>\n",
       "      <td>-10.543299</td>\n",
       "    </tr>\n",
       "    <tr>\n",
       "      <th>4</th>\n",
       "      <td>50</td>\n",
       "      <td>3</td>\n",
       "      <td>6</td>\n",
       "      <td>1</td>\n",
       "      <td>7</td>\n",
       "      <td>Alabama</td>\n",
       "      <td>Bibb County</td>\n",
       "      <td>22915</td>\n",
       "      <td>22919</td>\n",
       "      <td>22861</td>\n",
       "      <td>22733</td>\n",
       "      <td>22642</td>\n",
       "      <td>22512</td>\n",
       "      <td>22549</td>\n",
       "      <td>22583</td>\n",
       "      <td>-58</td>\n",
       "      <td>-128</td>\n",
       "      <td>-91</td>\n",
       "      <td>-130</td>\n",
       "      <td>37</td>\n",
       "      <td>34</td>\n",
       "      <td>44</td>\n",
       "      <td>266</td>\n",
       "      <td>245</td>\n",
       "      <td>259</td>\n",
       "      <td>247</td>\n",
       "      <td>253</td>\n",
       "      <td>34</td>\n",
       "      <td>278</td>\n",
       "      <td>237</td>\n",
       "      <td>281</td>\n",
       "      <td>211</td>\n",
       "      <td>223</td>\n",
       "      <td>10</td>\n",
       "      <td>-12</td>\n",
       "      <td>8</td>\n",
       "      <td>-22</td>\n",
       "      <td>36</td>\n",
       "      <td>30</td>\n",
       "      <td>2</td>\n",
       "      <td>...</td>\n",
       "      <td>14</td>\n",
       "      <td>-16</td>\n",
       "      <td>-21</td>\n",
       "      <td>2224</td>\n",
       "      <td>2224</td>\n",
       "      <td>2224</td>\n",
       "      <td>2224</td>\n",
       "      <td>2224</td>\n",
       "      <td>2233</td>\n",
       "      <td>2236</td>\n",
       "      <td>11.668202</td>\n",
       "      <td>10.798898</td>\n",
       "      <td>11.471852</td>\n",
       "      <td>10.962917</td>\n",
       "      <td>11.211557</td>\n",
       "      <td>12.194587</td>\n",
       "      <td>10.446281</td>\n",
       "      <td>12.446295</td>\n",
       "      <td>9.365083</td>\n",
       "      <td>9.882124</td>\n",
       "      <td>-0.526385</td>\n",
       "      <td>0.352617</td>\n",
       "      <td>-0.974443</td>\n",
       "      <td>1.597834</td>\n",
       "      <td>1.329434</td>\n",
       "      <td>0.438654</td>\n",
       "      <td>0.705234</td>\n",
       "      <td>0.797272</td>\n",
       "      <td>0.932070</td>\n",
       "      <td>0.930604</td>\n",
       "      <td>-5.527043</td>\n",
       "      <td>-5.068871</td>\n",
       "      <td>-6.201001</td>\n",
       "      <td>-0.177537</td>\n",
       "      <td>0.177258</td>\n",
       "      <td>-5.088389</td>\n",
       "      <td>-4.363636</td>\n",
       "      <td>-5.403729</td>\n",
       "      <td>0.754533</td>\n",
       "      <td>1.107861</td>\n",
       "    </tr>\n",
       "  </tbody>\n",
       "</table>\n",
       "<p>5 rows × 100 columns</p>\n",
       "</div>"
      ],
      "text/plain": [
       "   SUMLEV  REGION  DIVISION  ...  RNETMIG2013  RNETMIG2014 RNETMIG2015\n",
       "0      40       3         6  ...     1.383282     1.724718    0.712594\n",
       "1      50       3         6  ...    -2.722002     2.592270   -2.187333\n",
       "2      50       3         6  ...    22.727626    20.317142   18.293499\n",
       "3      50       3         6  ...    -7.167664    -3.978583  -10.543299\n",
       "4      50       3         6  ...    -5.403729     0.754533    1.107861\n",
       "\n",
       "[5 rows x 100 columns]"
      ]
     },
     "execution_count": 5,
     "metadata": {
      "tags": []
     },
     "output_type": "execute_result"
    }
   ],
   "source": [
    "df = pd.read_csv(io.BytesIO(uploaded['census.csv']))\n",
    "df.head()"
   ]
  },
  {
   "cell_type": "markdown",
   "metadata": {
    "id": "WhEaWw-yZjNq"
   },
   "source": [
    "#### **Upload from Drive**"
   ]
  },
  {
   "cell_type": "code",
   "execution_count": 6,
   "metadata": {
    "colab": {
     "base_uri": "https://localhost:8080/"
    },
    "executionInfo": {
     "elapsed": 32244,
     "status": "ok",
     "timestamp": 1610654943874,
     "user": {
      "displayName": "Christian Medina Armas",
      "photoUrl": "",
      "userId": "13236843762962760151"
     },
     "user_tz": 360
    },
    "id": "G0jzqBhNPZNd",
    "outputId": "fca6723e-1c06-4a73-ad2a-5e0404b2bc38"
   },
   "outputs": [
    {
     "name": "stdout",
     "output_type": "stream",
     "text": [
      "Mounted at /content/drive\n"
     ]
    }
   ],
   "source": [
    "from google.colab import drive\n",
    "drive.mount('/content/drive')"
   ]
  },
  {
   "cell_type": "code",
   "execution_count": 7,
   "metadata": {
    "colab": {
     "base_uri": "https://localhost:8080/",
     "height": 238
    },
    "executionInfo": {
     "elapsed": 2415,
     "status": "ok",
     "timestamp": 1610655005465,
     "user": {
      "displayName": "Christian Medina Armas",
      "photoUrl": "",
      "userId": "13236843762962760151"
     },
     "user_tz": 360
    },
    "id": "QmUkJlvRQnLr",
    "outputId": "f85bd32f-fb9f-4ec4-f78d-6ea36cedc7f0"
   },
   "outputs": [
    {
     "name": "stdout",
     "output_type": "stream",
     "text": [
      "Mounted at /gdrive\n",
      "/gdrive\n"
     ]
    },
    {
     "data": {
      "text/html": [
       "<div>\n",
       "<style scoped>\n",
       "    .dataframe tbody tr th:only-of-type {\n",
       "        vertical-align: middle;\n",
       "    }\n",
       "\n",
       "    .dataframe tbody tr th {\n",
       "        vertical-align: top;\n",
       "    }\n",
       "\n",
       "    .dataframe thead th {\n",
       "        text-align: right;\n",
       "    }\n",
       "</style>\n",
       "<table border=\"1\" class=\"dataframe\">\n",
       "  <thead>\n",
       "    <tr style=\"text-align: right;\">\n",
       "      <th></th>\n",
       "      <th>longitude</th>\n",
       "      <th>latitude</th>\n",
       "      <th>housing_median_age</th>\n",
       "      <th>total_rooms</th>\n",
       "      <th>total_bedrooms</th>\n",
       "      <th>population</th>\n",
       "      <th>households</th>\n",
       "      <th>median_income</th>\n",
       "      <th>median_house_value</th>\n",
       "      <th>ocean_proximity</th>\n",
       "    </tr>\n",
       "  </thead>\n",
       "  <tbody>\n",
       "    <tr>\n",
       "      <th>0</th>\n",
       "      <td>-122.23</td>\n",
       "      <td>37.88</td>\n",
       "      <td>41.0</td>\n",
       "      <td>880.0</td>\n",
       "      <td>129.0</td>\n",
       "      <td>322.0</td>\n",
       "      <td>126.0</td>\n",
       "      <td>8.3252</td>\n",
       "      <td>452600.0</td>\n",
       "      <td>NEAR BAY</td>\n",
       "    </tr>\n",
       "    <tr>\n",
       "      <th>1</th>\n",
       "      <td>-122.22</td>\n",
       "      <td>37.86</td>\n",
       "      <td>21.0</td>\n",
       "      <td>7099.0</td>\n",
       "      <td>1106.0</td>\n",
       "      <td>2401.0</td>\n",
       "      <td>1138.0</td>\n",
       "      <td>8.3014</td>\n",
       "      <td>358500.0</td>\n",
       "      <td>NEAR BAY</td>\n",
       "    </tr>\n",
       "    <tr>\n",
       "      <th>2</th>\n",
       "      <td>-122.24</td>\n",
       "      <td>37.85</td>\n",
       "      <td>52.0</td>\n",
       "      <td>1467.0</td>\n",
       "      <td>190.0</td>\n",
       "      <td>496.0</td>\n",
       "      <td>177.0</td>\n",
       "      <td>7.2574</td>\n",
       "      <td>352100.0</td>\n",
       "      <td>NEAR BAY</td>\n",
       "    </tr>\n",
       "    <tr>\n",
       "      <th>3</th>\n",
       "      <td>-122.25</td>\n",
       "      <td>37.85</td>\n",
       "      <td>52.0</td>\n",
       "      <td>1274.0</td>\n",
       "      <td>235.0</td>\n",
       "      <td>558.0</td>\n",
       "      <td>219.0</td>\n",
       "      <td>5.6431</td>\n",
       "      <td>341300.0</td>\n",
       "      <td>NEAR BAY</td>\n",
       "    </tr>\n",
       "    <tr>\n",
       "      <th>4</th>\n",
       "      <td>-122.25</td>\n",
       "      <td>37.85</td>\n",
       "      <td>52.0</td>\n",
       "      <td>1627.0</td>\n",
       "      <td>280.0</td>\n",
       "      <td>565.0</td>\n",
       "      <td>259.0</td>\n",
       "      <td>3.8462</td>\n",
       "      <td>342200.0</td>\n",
       "      <td>NEAR BAY</td>\n",
       "    </tr>\n",
       "  </tbody>\n",
       "</table>\n",
       "</div>"
      ],
      "text/plain": [
       "   longitude  latitude  ...  median_house_value  ocean_proximity\n",
       "0    -122.23     37.88  ...            452600.0         NEAR BAY\n",
       "1    -122.22     37.86  ...            358500.0         NEAR BAY\n",
       "2    -122.24     37.85  ...            352100.0         NEAR BAY\n",
       "3    -122.25     37.85  ...            341300.0         NEAR BAY\n",
       "4    -122.25     37.85  ...            342200.0         NEAR BAY\n",
       "\n",
       "[5 rows x 10 columns]"
      ]
     },
     "execution_count": 7,
     "metadata": {
      "tags": []
     },
     "output_type": "execute_result"
    }
   ],
   "source": [
    "from google.colab import drive\n",
    "drive.mount('/gdrive')\n",
    "%cd /gdrive\n",
    "\n",
    "# define destination folder\n",
    "PATH = 'MyDrive/data/'\n",
    "\n",
    "df = pd.read_csv(PATH+'housing.csv')\n",
    "df.head()"
   ]
  },
  {
   "cell_type": "code",
   "execution_count": 9,
   "metadata": {
    "colab": {
     "base_uri": "https://localhost:8080/"
    },
    "executionInfo": {
     "elapsed": 546,
     "status": "ok",
     "timestamp": 1610655117415,
     "user": {
      "displayName": "Christian Medina Armas",
      "photoUrl": "",
      "userId": "13236843762962760151"
     },
     "user_tz": 360
    },
    "id": "AUxC-gg0haX3",
    "outputId": "20580015-9638-45e9-b036-9386f91a8886"
   },
   "outputs": [
    {
     "name": "stdout",
     "output_type": "stream",
     "text": [
      "ls: cannot access 'PATH': No such file or directory\n"
     ]
    }
   ],
   "source": [
    "!ls MyDrive/data/"
   ]
  },
  {
   "cell_type": "code",
   "execution_count": 10,
   "metadata": {
    "colab": {
     "base_uri": "https://localhost:8080/",
     "height": 517
    },
    "executionInfo": {
     "elapsed": 1170,
     "status": "ok",
     "timestamp": 1610655135360,
     "user": {
      "displayName": "Christian Medina Armas",
      "photoUrl": "",
      "userId": "13236843762962760151"
     },
     "user_tz": 360
    },
    "id": "NiNiXPXxQWMy",
    "outputId": "d65dd6fe-784b-4026-dbbf-b57b6b5f1a52"
   },
   "outputs": [
    {
     "data": {
      "image/png": "[encoded data removed]",
      "text/plain": [
       "<Figure size 1080x576 with 1 Axes>"
      ]
     },
     "metadata": {
      "needs_background": "light",
      "tags": []
     },
     "output_type": "display_data"
    }
   ],
   "source": [
    "# matplotlib plot\n",
    "fig, ax = plt.subplots(figsize=(15,8))\n",
    "ax.plot(df['median_house_value'].sort_values().reset_index(drop=True),alpha=0.7)\n",
    "ax.set_title('Median House Value',fontsize=36, fontweight='bold',color='tab:green',loc='left')\n",
    "ax.grid(alpha=0.3);\n",
    "\n",
    "plt.savefig(PATH+'housing_plot.png')\n",
    "plt.show()"
   ]
  },
  {
   "cell_type": "code",
   "execution_count": 11,
   "metadata": {
    "colab": {
     "base_uri": "https://localhost:8080/"
    },
    "executionInfo": {
     "elapsed": 577,
     "status": "ok",
     "timestamp": 1610655142437,
     "user": {
      "displayName": "Christian Medina Armas",
      "photoUrl": "",
      "userId": "13236843762962760151"
     },
     "user_tz": 360
    },
    "id": "xNM8WCtSYpOM",
    "outputId": "ae87ec37-a932-44a4-edc2-8d48bdb293c0"
   },
   "outputs": [
    {
     "name": "stdout",
     "output_type": "stream",
     "text": [
      "housing.csv  housing_plot.png\n"
     ]
    }
   ],
   "source": [
    "!ls MyDrive/data/"
   ]
  },
  {
   "cell_type": "code",
   "execution_count": null,
   "metadata": {
    "id": "W_tmKsJ1cCLt"
   },
   "outputs": [],
   "source": []
  }
 ],
 "metadata": {
  "colab": {
   "collapsed_sections": [],
   "name": "getting_started_colab.ipynb",
   "provenance": []
  },
  "kernelspec": {
   "display_name": "Python 3",
   "language": "python",
   "name": "python3"
  },
  "language_info": {
   "codemirror_mode": {
    "name": "ipython",
    "version": 3
   },
   "file_extension": ".py",
   "mimetype": "text/x-python",
   "name": "python",
   "nbconvert_exporter": "python",
   "pygments_lexer": "ipython3",
   "version": "3.8.4"
  }
 },
 "nbformat": 4,
 "nbformat_minor": 4
}
